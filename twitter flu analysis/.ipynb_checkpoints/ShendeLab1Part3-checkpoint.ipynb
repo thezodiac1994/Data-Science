{
 "cells": [
  {
   "cell_type": "code",
   "execution_count": 4,
   "metadata": {},
   "outputs": [
    {
     "name": "stderr",
     "output_type": "stream",
     "text": [
      "Warning message in twInterfaceObj$doAPICall(paste(\"users\", \"show\", sep = \"/\"), params = params, :\n",
      "“Rate limit encountered & retry limit reached - returning partial results”"
     ]
    },
    {
     "ename": "ERROR",
     "evalue": "Error: attempt to apply non-function\n",
     "output_type": "error",
     "traceback": [
      "Error: attempt to apply non-function\nTraceback:\n",
      "1. collect_tweets(200)"
     ]
    }
   ],
   "source": [
    "# gautamav - 50245840\n",
    "# sujitjit - 50247206\n",
    "\n",
    "### This block of the notebook was primarily used for collecting and saving tweets \n",
    "\n",
    "initialize_twitter <- function() {\n",
    "  ### This function was used to initiate the use twitterREST API by using oauth \n",
    "    \n",
    "  ## This has been hashed for security reasons\n",
    "  library(\"twitteR\")\n",
    "  api_key = 'IOaRMQiU3FyKKMqWV6698NErZ'\n",
    "  api_secret = 'M0Ek6S9pyEUGiJOFdV5GrC6WAdU0fTfOAh0bJjDYborOOajtxU'\n",
    "  access_token = '963910109788295170-kTqCFtlUeYnkC6ppDecdUp3WQV8TTC2'\n",
    "  access_token_secret = 'R60XHcappkg5f2unftlx4dwcXYsyxdFWx2HZ8qiiN22KK'\n",
    "  setup_twitter_oauth(api_key,api_secret,access_token,access_token_secret)\n",
    "}\n",
    "\n",
    "collect_tweets <- function(nmax){\n",
    "  ### once the connection has been authenticated and initialized, we are now ready to query the REST API and \n",
    "  ### collect tweets \n",
    "  ### We used combination of multiple tags for collecting data. 2 primary combinations were used\n",
    "  ### 1) \"flu OR #flu OR #influenza OR #fluseason OR #Flu OR #Fluseason\"  (~ 17,000 tweets)\n",
    "  ### 2)  #Flu2018 OR FluGov OR CDCFlu OR #CDCFl OR #H1N1 OR #Influenza OR FluData OR #FluData (~18,000 tweets)\n",
    "  ### Total of 35000 tweets were collected but the unique tweets were close to 17,500 \n",
    "    \n",
    "  searchResults = searchTwitter(\"#IndianWells OR IndianWells\", n=nmax) \n",
    "  # 900 tweets can be collected at once \n",
    "  tweetS = twListToDF(searchResults[1])\n",
    "  tweetS = tweetS[FALSE,]\n",
    "  finalData = as.data.frame(matrix(nrow = nmax, ncol = 2))\n",
    "  colnames(finalData) = c(\"id\",\"Location\")\n",
    "  # we are only interestd in id and location of the tweets because id is what helps uniquely identify a tweet and \n",
    "  # location is something we need for the heatmap\n",
    "    \n",
    "  for (i in 1:nmax){\n",
    "    tweet = twListToDF(searchResults[i]) # convert tweet to dataframe \n",
    "    tempUser = getUser(tweet$screenName) # username\n",
    "    tempLocn = tempUser$getLocation()   # User location is used for location because tweet locn was rarely available\n",
    "    finalData[i,1] = tweet$id\n",
    "    finalData[i,2] = tempLocn\n",
    "    #    print(tweet$text)\n",
    "    if(i%%100==0) # this is just to keep track of how many tweets have been processed   \n",
    "      print(i)\n",
    "  }\n",
    "  \n",
    "  write.table(finalData, \"Data/NEW.csv\", sep = \",\", \n",
    "              col.names = F, append = T)\n",
    "}\n",
    "\n",
    "\n",
    "\n",
    "initialize_twitter() # intialize API  \n",
    "#collect_tweets(900) # collect tweets \n",
    "\n",
    "# PS : The block may throw warnings while dealing with chinese characters and other anomalous characters since we\n",
    "# are collecting tweets from all over the world, there are all kinds of unexpected characters that throw warnings \n",
    "# while being processed "
   ]
  },
  {
   "cell_type": "code",
   "execution_count": 5,
   "metadata": {},
   "outputs": [],
   "source": [
    "get_location_index <- function(userLocn) {\n",
    "  # function checks for state name in the given string   \n",
    "    \n",
    "  # logic 1 : separate the strings using <,> as delimitter because many tweets had locations as city, state\n",
    "  userLocn = strsplit(userLocn, \",\") \n",
    "    \n",
    "  x = state.name # holds all the names of the US states \n",
    "  y = state.abb  # holds all the abbrevations of the US states \n",
    "  \n",
    "  # this for loop goes through every <','> delimitted word in the passed string and checks if it is in \n",
    "  # x or y i.e us state name or abbrevation \n",
    "  # if a match is found then return the index of the respective US state (1-50)\n",
    "  for (i in userLocn){\n",
    "      #print(i)\n",
    "    for (j in i){\n",
    "    #print(j)\n",
    "      s = trimws(j, which = \"both\") # trims white space\n",
    "      \n",
    "      index = match(s,x)\n",
    "      if(is.na(index)==FALSE)\n",
    "        return (index)\n",
    "      \n",
    "      index = match(s,y)\n",
    "      if(is.na(index)==FALSE)\n",
    "        return (index)\n",
    "    }\n",
    "  }\n",
    "    # logic 2 : separate the strings using <' '> as delimitter because many tweets did not have <','> as delimitter\n",
    "    # and it was easy to miss out on states because a string like < city state or buffalo ny wont be separated at \n",
    "    # all and we would miss out on this tweet. So it was essential to also check for tweets using space as a delimiter\n",
    "    \n",
    "    userLocn = as.character(userLocn)\n",
    "    userLocn = strsplit(userLocn, ' ')\n",
    "    for (i in userLocn){\n",
    "      #print(i)\n",
    "        for (j in i){\n",
    "        #print(j)\n",
    "          s = trimws(j, which = \"both\") # trims white space\n",
    "\n",
    "          index = match(s,x)\n",
    "          if(is.na(index)==FALSE)\n",
    "            return (index)\n",
    "\n",
    "          index = match(s,y)\n",
    "          if(is.na(index)==FALSE)\n",
    "            return (index)\n",
    "        }\n",
    "    }\n",
    " \n",
    "    \n",
    "    \n",
    "      \n",
    "  return (-1)  #return -1 if no matching state is found \n",
    "}\n",
    "\n",
    "# PS : The block may throw warnings while dealing with chinese characters and other anomalous characters since we\n",
    "# are collecting tweets from all over the world, there are all kinds of unexpected characters that throw warnings \n",
    "# while being processed "
   ]
  },
  {
   "cell_type": "code",
   "execution_count": 5,
   "metadata": {},
   "outputs": [
    {
     "data": {
      "text/html": [
       "<dl class=dl-horizontal>\n",
       "\t<dt>id</dt>\n",
       "\t\t<dd>17325</dd>\n",
       "\t<dt>Location</dt>\n",
       "\t\t<dd>17325</dd>\n",
       "</dl>\n"
      ],
      "text/latex": [
       "\\begin{description*}\n",
       "\\item[id] 17325\n",
       "\\item[Location] 17325\n",
       "\\end{description*}\n"
      ],
      "text/markdown": [
       "id\n",
       ":   17325Location\n",
       ":   17325\n",
       "\n"
      ],
      "text/plain": [
       "      id Location \n",
       "   17325    17325 "
      ]
     },
     "metadata": {},
     "output_type": "display_data"
    },
    {
     "name": "stdout",
     "output_type": "stream",
     "text": [
      "[1] 1000\n",
      "[1] 2000\n",
      "[1] 3000\n",
      "[1] 4000\n",
      "[1] 5000\n",
      "[1] 6000\n",
      "[1] 7000\n",
      "[1] 8000\n",
      "[1] 9000\n",
      "[1] 10000\n"
     ]
    },
    {
     "name": "stderr",
     "output_type": "stream",
     "text": [
      "Warning message in strsplit(userLocn, \",\"):\n",
      "“input string 1 is invalid in this locale”Warning message in strsplit(userLocn, \",\"):\n",
      "“input string 1 is invalid in this locale”Warning message in strsplit(userLocn, \",\"):\n",
      "“input string 1 is invalid in this locale”Warning message in strsplit(userLocn, \",\"):\n",
      "“input string 1 is invalid in this locale”Warning message in strsplit(userLocn, \",\"):\n",
      "“input string 1 is invalid in this locale”Warning message in strsplit(userLocn, \",\"):\n",
      "“input string 1 is invalid in this locale”Warning message in strsplit(userLocn, \",\"):\n",
      "“input string 1 is invalid in this locale”Warning message in strsplit(userLocn, \",\"):\n",
      "“input string 1 is invalid in this locale”Warning message in strsplit(userLocn, \",\"):\n",
      "“input string 1 is invalid in this locale”Warning message in strsplit(userLocn, \",\"):\n",
      "“input string 1 is invalid in this locale”Warning message in strsplit(userLocn, \",\"):\n",
      "“input string 1 is invalid in this locale”Warning message in strsplit(userLocn, \",\"):\n",
      "“input string 1 is invalid in this locale”Warning message in strsplit(userLocn, \",\"):\n",
      "“input string 1 is invalid in this locale”Warning message in strsplit(userLocn, \",\"):\n",
      "“input string 1 is invalid in this locale”Warning message in strsplit(userLocn, \",\"):\n",
      "“input string 1 is invalid in this locale”Warning message in strsplit(userLocn, \",\"):\n",
      "“input string 1 is invalid in this locale”Warning message in strsplit(userLocn, \",\"):\n",
      "“input string 1 is invalid in this locale”Warning message in strsplit(userLocn, \",\"):\n",
      "“input string 1 is invalid in this locale”Warning message in strsplit(userLocn, \",\"):\n",
      "“input string 1 is invalid in this locale”Warning message in strsplit(userLocn, \",\"):\n",
      "“input string 1 is invalid in this locale”Warning message in strsplit(userLocn, \",\"):\n",
      "“input string 1 is invalid in this locale”Warning message in strsplit(userLocn, \",\"):\n",
      "“input string 1 is invalid in this locale”Warning message in strsplit(userLocn, \",\"):\n",
      "“input string 1 is invalid in this locale”Warning message in strsplit(userLocn, \",\"):\n",
      "“input string 1 is invalid in this locale”"
     ]
    },
    {
     "name": "stdout",
     "output_type": "stream",
     "text": [
      "[1] 11000\n"
     ]
    },
    {
     "name": "stderr",
     "output_type": "stream",
     "text": [
      "Warning message in strsplit(userLocn, \",\"):\n",
      "“input string 1 is invalid in this locale”Warning message in strsplit(userLocn, \",\"):\n",
      "“input string 1 is invalid in this locale”Warning message in strsplit(userLocn, \",\"):\n",
      "“input string 1 is invalid in this locale”Warning message in strsplit(userLocn, \",\"):\n",
      "“input string 1 is invalid in this locale”Warning message in strsplit(userLocn, \",\"):\n",
      "“input string 1 is invalid in this locale”Warning message in strsplit(userLocn, \",\"):\n",
      "“input string 1 is invalid in this locale”Warning message in strsplit(userLocn, \",\"):\n",
      "“input string 1 is invalid in this locale”Warning message in strsplit(userLocn, \",\"):\n",
      "“input string 1 is invalid in this locale”Warning message in strsplit(userLocn, \",\"):\n",
      "“input string 1 is invalid in this locale”Warning message in strsplit(userLocn, \",\"):\n",
      "“input string 1 is invalid in this locale”Warning message in strsplit(userLocn, \",\"):\n",
      "“input string 1 is invalid in this locale”Warning message in strsplit(userLocn, \",\"):\n",
      "“input string 1 is invalid in this locale”Warning message in strsplit(userLocn, \",\"):\n",
      "“input string 1 is invalid in this locale”Warning message in strsplit(userLocn, \",\"):\n",
      "“input string 1 is invalid in this locale”Warning message in strsplit(userLocn, \",\"):\n",
      "“input string 1 is invalid in this locale”"
     ]
    },
    {
     "name": "stdout",
     "output_type": "stream",
     "text": [
      "[1] 12000\n"
     ]
    },
    {
     "name": "stderr",
     "output_type": "stream",
     "text": [
      "Warning message in strsplit(userLocn, \",\"):\n",
      "“input string 1 is invalid in this locale”Warning message in strsplit(userLocn, \",\"):\n",
      "“input string 1 is invalid in this locale”Warning message in strsplit(userLocn, \",\"):\n",
      "“input string 1 is invalid in this locale”Warning message in strsplit(userLocn, \",\"):\n",
      "“input string 1 is invalid in this locale”Warning message in strsplit(userLocn, \",\"):\n",
      "“input string 1 is invalid in this locale”Warning message in strsplit(userLocn, \",\"):\n",
      "“input string 1 is invalid in this locale”Warning message in strsplit(userLocn, \",\"):\n",
      "“input string 1 is invalid in this locale”Warning message in strsplit(userLocn, \",\"):\n",
      "“input string 1 is invalid in this locale”Warning message in strsplit(userLocn, \",\"):\n",
      "“input string 1 is invalid in this locale”Warning message in strsplit(userLocn, \",\"):\n",
      "“input string 1 is invalid in this locale”Warning message in strsplit(userLocn, \",\"):\n",
      "“input string 1 is invalid in this locale”Warning message in strsplit(userLocn, \",\"):\n",
      "“input string 1 is invalid in this locale”Warning message in strsplit(userLocn, \",\"):\n",
      "“input string 1 is invalid in this locale”"
     ]
    },
    {
     "name": "stdout",
     "output_type": "stream",
     "text": [
      "[1] 13000\n"
     ]
    },
    {
     "name": "stderr",
     "output_type": "stream",
     "text": [
      "Warning message in strsplit(userLocn, \",\"):\n",
      "“input string 1 is invalid in this locale”Warning message in strsplit(userLocn, \",\"):\n",
      "“input string 1 is invalid in this locale”Warning message in strsplit(userLocn, \",\"):\n",
      "“input string 1 is invalid in this locale”Warning message in strsplit(userLocn, \",\"):\n",
      "“input string 1 is invalid in this locale”Warning message in strsplit(userLocn, \",\"):\n",
      "“input string 1 is invalid in this locale”Warning message in strsplit(userLocn, \",\"):\n",
      "“input string 1 is invalid in this locale”Warning message in strsplit(userLocn, \",\"):\n",
      "“input string 1 is invalid in this locale”Warning message in strsplit(userLocn, \",\"):\n",
      "“input string 1 is invalid in this locale”Warning message in strsplit(userLocn, \",\"):\n",
      "“input string 1 is invalid in this locale”Warning message in strsplit(userLocn, \",\"):\n",
      "“input string 1 is invalid in this locale”"
     ]
    },
    {
     "name": "stdout",
     "output_type": "stream",
     "text": [
      "[1] 14000\n"
     ]
    },
    {
     "name": "stderr",
     "output_type": "stream",
     "text": [
      "Warning message in strsplit(userLocn, \",\"):\n",
      "“input string 1 is invalid in this locale”Warning message in strsplit(userLocn, \",\"):\n",
      "“input string 1 is invalid in this locale”Warning message in strsplit(userLocn, \",\"):\n",
      "“input string 1 is invalid in this locale”Warning message in strsplit(userLocn, \",\"):\n",
      "“input string 1 is invalid in this locale”Warning message in strsplit(userLocn, \",\"):\n",
      "“input string 1 is invalid in this locale”Warning message in strsplit(userLocn, \",\"):\n",
      "“input string 1 is invalid in this locale”Warning message in strsplit(userLocn, \",\"):\n",
      "“input string 1 is invalid in this locale”Warning message in strsplit(userLocn, \",\"):\n",
      "“input string 1 is invalid in this locale”Warning message in strsplit(userLocn, \",\"):\n",
      "“input string 1 is invalid in this locale”Warning message in strsplit(userLocn, \",\"):\n",
      "“input string 1 is invalid in this locale”Warning message in strsplit(userLocn, \",\"):\n",
      "“input string 1 is invalid in this locale”Warning message in strsplit(userLocn, \",\"):\n",
      "“input string 1 is invalid in this locale”Warning message in strsplit(userLocn, \",\"):\n",
      "“input string 1 is invalid in this locale”Warning message in strsplit(userLocn, \",\"):\n",
      "“input string 1 is invalid in this locale”"
     ]
    },
    {
     "name": "stdout",
     "output_type": "stream",
     "text": [
      "[1] 15000\n"
     ]
    },
    {
     "name": "stderr",
     "output_type": "stream",
     "text": [
      "Warning message in strsplit(userLocn, \",\"):\n",
      "“input string 1 is invalid in this locale”Warning message in strsplit(userLocn, \",\"):\n",
      "“input string 1 is invalid in this locale”Warning message in strsplit(userLocn, \",\"):\n",
      "“input string 1 is invalid in this locale”Warning message in strsplit(userLocn, \",\"):\n",
      "“input string 1 is invalid in this locale”"
     ]
    },
    {
     "name": "stdout",
     "output_type": "stream",
     "text": [
      "[1] 16000\n"
     ]
    },
    {
     "name": "stderr",
     "output_type": "stream",
     "text": [
      "Warning message in strsplit(userLocn, \",\"):\n",
      "“input string 1 is invalid in this locale”Warning message in strsplit(userLocn, \",\"):\n",
      "“input string 1 is invalid in this locale”Warning message in strsplit(userLocn, \",\"):\n",
      "“input string 1 is invalid in this locale”Warning message in strsplit(userLocn, \",\"):\n",
      "“input string 1 is invalid in this locale”Warning message in strsplit(userLocn, \",\"):\n",
      "“input string 1 is invalid in this locale”Warning message in strsplit(userLocn, \",\"):\n",
      "“input string 1 is invalid in this locale”Warning message in strsplit(userLocn, \",\"):\n",
      "“input string 1 is invalid in this locale”Warning message in strsplit(userLocn, \",\"):\n",
      "“input string 1 is invalid in this locale”Warning message in strsplit(userLocn, \",\"):\n",
      "“input string 1 is invalid in this locale”Warning message in strsplit(userLocn, \",\"):\n",
      "“input string 1 is invalid in this locale”Warning message in strsplit(userLocn, \",\"):\n",
      "“input string 1 is invalid in this locale”Warning message in strsplit(userLocn, \",\"):\n",
      "“input string 1 is invalid in this locale”Warning message in strsplit(userLocn, \",\"):\n",
      "“input string 1 is invalid in this locale”Warning message in strsplit(userLocn, \",\"):\n",
      "“input string 1 is invalid in this locale”Warning message in strsplit(userLocn, \",\"):\n",
      "“input string 1 is invalid in this locale”Warning message in strsplit(userLocn, \",\"):\n",
      "“input string 1 is invalid in this locale”Warning message in strsplit(userLocn, \",\"):\n",
      "“input string 1 is invalid in this locale”Warning message in strsplit(userLocn, \",\"):\n",
      "“input string 1 is invalid in this locale”Warning message in strsplit(userLocn, \",\"):\n",
      "“input string 1 is invalid in this locale”Warning message in strsplit(userLocn, \",\"):\n",
      "“input string 1 is invalid in this locale”Warning message in strsplit(userLocn, \",\"):\n",
      "“input string 1 is invalid in this locale”Warning message in strsplit(userLocn, \",\"):\n",
      "“input string 1 is invalid in this locale”Warning message in strsplit(userLocn, \",\"):\n",
      "“input string 1 is invalid in this locale”Warning message in strsplit(userLocn, \",\"):\n",
      "“input string 1 is invalid in this locale”Warning message in strsplit(userLocn, \",\"):\n",
      "“input string 1 is invalid in this locale”Warning message in strsplit(userLocn, \",\"):\n",
      "“input string 1 is invalid in this locale”Warning message in strsplit(userLocn, \",\"):\n",
      "“input string 1 is invalid in this locale”Warning message in strsplit(userLocn, \",\"):\n",
      "“input string 1 is invalid in this locale”Warning message in strsplit(userLocn, \",\"):\n",
      "“input string 1 is invalid in this locale”Warning message in strsplit(userLocn, \",\"):\n",
      "“input string 1 is invalid in this locale”Warning message in strsplit(userLocn, \",\"):\n",
      "“input string 1 is invalid in this locale”Warning message in strsplit(userLocn, \",\"):\n",
      "“input string 1 is invalid in this locale”Warning message in strsplit(userLocn, \",\"):\n",
      "“input string 1 is invalid in this locale”Warning message in strsplit(userLocn, \",\"):\n",
      "“input string 1 is invalid in this locale”Warning message in strsplit(userLocn, \",\"):\n",
      "“input string 1 is invalid in this locale”Warning message in strsplit(userLocn, \",\"):\n",
      "“input string 1 is invalid in this locale”Warning message in strsplit(userLocn, \",\"):\n",
      "“input string 1 is invalid in this locale”Warning message in strsplit(userLocn, \",\"):\n",
      "“input string 1 is invalid in this locale”Warning message in strsplit(userLocn, \",\"):\n",
      "“input string 1 is invalid in this locale”Warning message in strsplit(userLocn, \",\"):\n",
      "“input string 1 is invalid in this locale”Warning message in strsplit(userLocn, \",\"):\n",
      "“input string 1 is invalid in this locale”Warning message in strsplit(userLocn, \",\"):\n",
      "“input string 1 is invalid in this locale”Warning message in strsplit(userLocn, \",\"):\n",
      "“input string 1 is invalid in this locale”Warning message in strsplit(userLocn, \",\"):\n",
      "“input string 1 is invalid in this locale”Warning message in strsplit(userLocn, \",\"):\n",
      "“input string 1 is invalid in this locale”Warning message in strsplit(userLocn, \",\"):\n",
      "“input string 1 is invalid in this locale”Warning message in strsplit(userLocn, \",\"):\n",
      "“input string 1 is invalid in this locale”Warning message in strsplit(userLocn, \",\"):\n",
      "“input string 1 is invalid in this locale”Warning message in strsplit(userLocn, \",\"):\n",
      "“input string 1 is invalid in this locale”Warning message in strsplit(userLocn, \",\"):\n",
      "“input string 1 is invalid in this locale”Warning message in strsplit(userLocn, \",\"):\n",
      "“input string 1 is invalid in this locale”Warning message in strsplit(userLocn, \",\"):\n",
      "“input string 1 is invalid in this locale”Warning message in strsplit(userLocn, \",\"):\n",
      "“input string 1 is invalid in this locale”Warning message in strsplit(userLocn, \",\"):\n",
      "“input string 1 is invalid in this locale”Warning message in strsplit(userLocn, \",\"):\n",
      "“input string 1 is invalid in this locale”Warning message in strsplit(userLocn, \",\"):\n",
      "“input string 1 is invalid in this locale”Warning message in strsplit(userLocn, \",\"):\n",
      "“input string 1 is invalid in this locale”Warning message in strsplit(userLocn, \",\"):\n",
      "“input string 1 is invalid in this locale”Warning message in strsplit(userLocn, \",\"):\n",
      "“input string 1 is invalid in this locale”Warning message in strsplit(userLocn, \",\"):\n",
      "“input string 1 is invalid in this locale”Warning message in strsplit(userLocn, \",\"):\n",
      "“input string 1 is invalid in this locale”Warning message in strsplit(userLocn, \",\"):\n",
      "“input string 1 is invalid in this locale”Warning message in strsplit(userLocn, \",\"):\n",
      "“input string 1 is invalid in this locale”Warning message in strsplit(userLocn, \",\"):\n",
      "“input string 1 is invalid in this locale”Warning message in strsplit(userLocn, \",\"):\n",
      "“input string 1 is invalid in this locale”Warning message in strsplit(userLocn, \",\"):\n",
      "“input string 1 is invalid in this locale”Warning message in strsplit(userLocn, \",\"):\n",
      "“input string 1 is invalid in this locale”"
     ]
    },
    {
     "name": "stdout",
     "output_type": "stream",
     "text": [
      "[1] 17000\n"
     ]
    },
    {
     "name": "stderr",
     "output_type": "stream",
     "text": [
      "Warning message in strsplit(userLocn, \",\"):\n",
      "“input string 1 is invalid in this locale”Warning message in strsplit(userLocn, \",\"):\n",
      "“input string 1 is invalid in this locale”Warning message in strsplit(userLocn, \",\"):\n",
      "“input string 1 is invalid in this locale”Warning message in strsplit(userLocn, \",\"):\n",
      "“input string 1 is invalid in this locale”"
     ]
    }
   ],
   "source": [
    "### This block of notebook reads the location from the collected tweets and generates a csv file that has 3 columns\n",
    "### 1) state name 2) frequency of tweets 3) category based on tweets frequency\n",
    "### the category is decided by subdividing the frequency range into categories \n",
    "### example: \n",
    "# if frequency is betweeen 1 to 100, category is 1,\n",
    "# if frequency is betweeen 101 to 200, category is 2,\n",
    "# etc\n",
    "\n",
    "data1 = read.csv(\"Data/flu_combined.csv\")\n",
    "data1 = unique(data1)\n",
    "lengths(data1) # unique tweets are roughly 50 to 60 % of the original tweets in all the 3 files\n",
    "# the number of unique tweets was ~17,000 to 18,000 which is almost half the ~36,000 tweets initially collected\n",
    "\n",
    "V = vector (mode = 'integer', length = 50) # this will store the frequency of all the states \n",
    "\n",
    "\n",
    "Locations = data1$Location # LOCATION COLUMN \n",
    "count = 0\n",
    "\n",
    "for (i in Locations){\n",
    "    index = get_location_index(i)\n",
    "    if(index!=-1)\n",
    "        V[index] = V[index]+1;\n",
    "    \n",
    "    count = count + 1\n",
    "    if(count %% 1000 == 0) # this is just to keep track of how many iterations we are through \n",
    "        print(count)\n",
    "}\n",
    "\n",
    "write(\"State, Frequency\", file = \"output_tag_combined.csv\") # generate the csv with 3 columns \n",
    "\n",
    "\n",
    "for (i in 1:50){\n",
    "    USstate = state.name[i]\n",
    "    frequency = V[i]\n",
    "    category = as.integer(frequency / 30) # division by 30 was ideal considering the frequency was in the range \n",
    "    # between 0 to 450 for all the 3 heatmaps\n",
    "    line = paste(USstate, ',' , frequency, ',', category) \n",
    "     write(line , file = \"output_tag_combined.csv\", append = TRUE);\n",
    "    \n",
    "}\n",
    "\n",
    "\n",
    "# PS : The block may throw warnings while dealing with chinese characters and other anomalous characters since we\n",
    "# are collecting tweets from all over the world, there are all kinds of unexpected characters that throw warnings \n",
    "# while being processed "
   ]
  },
  {
   "cell_type": "code",
   "execution_count": 6,
   "metadata": {},
   "outputs": [],
   "source": [
    "generateHeatmap <- function(filePath,option)\n",
    "    {\n",
    "        # importing required libraries\n",
    "        library(ggplot2)  \n",
    "        library(maps) \n",
    "\n",
    "        # importing data from csv file\n",
    "        twitter_data<- read.csv(filePath)\n",
    "\n",
    "        # extracting states data from maps library\n",
    "        state_data <-map_data(\"state\")\n",
    "\n",
    "        # creating the region column in the imported dataset  \n",
    "        twitter_data$region = tolower(twitter_data$state)\n",
    "\n",
    "        # merging the dataframe from library and local file mapping it by region\n",
    "        twitter_data_map <- merge(state_data, twitter_data, by = \"region\", all.x = T)\n",
    "\n",
    "        # ordering the resultant dataset by column name -> order\n",
    "        twitter_data_map <-twitter_data_map[order(twitter_data_map$order), ]\n",
    "\n",
    "        # implementation of heatmap goes here\n",
    "        ggplot(twitter_data_map, aes(x=long,y=lat,group=group)) + # plotting the map based on merged data, grouping data by groups\n",
    "            geom_polygon(aes(fill=category)) + # using polygon fill for each states depending on ACTIVITY.LEVEL\n",
    "            geom_path() + # to show boundaries of each state\n",
    "            scale_fill_gradient2(low = \"white\",mid=\"green\", high = \"red\") + # manual color fill to discrete scale\n",
    "            coord_map() + # mapping as per coordinate\n",
    "            ggtitle(option) # defining title for the maps\n",
    "\n",
    "\n",
    "\n",
    "\n",
    "    }\n",
    "\n"
   ]
  },
  {
   "cell_type": "code",
   "execution_count": 5,
   "metadata": {},
   "outputs": [
    {
     "ename": "ERROR",
     "evalue": "Error in eval(expr, envir, enclos): could not find function \"generateHeatmap\"\n",
     "output_type": "error",
     "traceback": [
      "Error in eval(expr, envir, enclos): could not find function \"generateHeatmap\"\nTraceback:\n"
     ]
    }
   ],
   "source": [
    "generateHeatmap(\"Data/output_tag_1.csv\",\"twitter data | tag option 1\")\n",
    "generateHeatmap(\"Data/output_tag_2.csv\",\"twitter data | tag option 2\")\n",
    "generateHeatmap(\"Data/output_tag_combined.csv\",\"twitter data | tag option combined\")\n",
    "\n",
    "## Note: Please compile the upper block before running this block in the python notebook\n",
    "\n"
   ]
  },
  {
   "cell_type": "code",
   "execution_count": null,
   "metadata": {},
   "outputs": [],
   "source": []
  }
 ],
 "metadata": {
  "kernelspec": {
   "display_name": "R",
   "language": "R",
   "name": "ir"
  },
  "language_info": {
   "codemirror_mode": "r",
   "file_extension": ".r",
   "mimetype": "text/x-r-source",
   "name": "R",
   "pygments_lexer": "r",
   "version": "3.2.3"
  }
 },
 "nbformat": 4,
 "nbformat_minor": 2
}
